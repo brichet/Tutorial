{
 "cells": [
  {
   "cell_type": "markdown",
   "id": "graduate-alabama",
   "metadata": {},
   "source": [
    "# Automatic generation of Notebook using PyCropML\n",
    "    This notebook implements a crop model."
   ]
  },
  {
   "cell_type": "markdown",
   "id": "another-tokyo",
   "metadata": {},
   "source": [
    "### Model PotentialTranspiration"
   ]
  },
  {
   "cell_type": "code",
   "execution_count": null,
   "id": "configured-demographic",
   "metadata": {},
   "outputs": [],
   "source": [
    "model_PotentialTranspiration <- function (evapoTranspiration = 830.958,\n",
    "         tau = 0.9983){\n",
    "    #'- Name: PotentialTranspiration -Version: 1.0, -Time step: 1\n",
    "    #'- Description:\n",
    "    #'            * Title: PotentialTranspiration Model\n",
    "    #'            * Author: Pierre Martre\n",
    "    #'            * Reference: Modelling energy balance in the wheat crop model SiriusQuality2:\n",
    "    #'            Evapotranspiration and canopy and soil temperature calculations\n",
    "    #'            * Institution: INRA/LEPSE Montpellier\n",
    "    #'            * Abstract: SiriusQuality2 uses availability of water from the soil reservoir as a method to restrict\n",
    "    #'                    transpiration as soil moisture is depleted \n",
    "    #'- inputs:\n",
    "    #'            * name: evapoTranspiration\n",
    "    #'                          ** description : evapoTranspiration\n",
    "    #'                          ** variablecategory : rate\n",
    "    #'                          ** datatype : DOUBLE\n",
    "    #'                          ** default : 830.958\n",
    "    #'                          ** min : 0\n",
    "    #'                          ** max : 10000\n",
    "    #'                          ** unit : mm\n",
    "    #'                          ** uri : http://www1.clermont.inra.fr/siriusquality/?page_id=547\n",
    "    #'                          ** inputtype : variable\n",
    "    #'            * name: tau\n",
    "    #'                          ** description : plant cover factor\n",
    "    #'                          ** parametercategory : species\n",
    "    #'                          ** datatype : DOUBLE\n",
    "    #'                          ** default : 0.9983\n",
    "    #'                          ** min : 0\n",
    "    #'                          ** max : 1\n",
    "    #'                          ** unit : \n",
    "    #'                          ** uri : http://www1.clermont.inra.fr/siriusquality/?page_id=547\n",
    "    #'                          ** inputtype : parameter\n",
    "    #'- outputs:\n",
    "    #'            * name: potentialTranspiration\n",
    "    #'                          ** description : potential Transpiration \n",
    "    #'                          ** variablecategory : rate\n",
    "    #'                          ** datatype : DOUBLE\n",
    "    #'                          ** min : 0\n",
    "    #'                          ** max : 10000\n",
    "    #'                          ** unit : g m-2 d-1\n",
    "    #'                          ** uri : http://www1.clermont.inra.fr/siriusquality/?page_id=547\n",
    "    potentialTranspiration <- evapoTranspiration * (1.0 - tau)\n",
    "    return (list('potentialTranspiration' = potentialTranspiration))\n",
    "}"
   ]
  },
  {
   "cell_type": "code",
   "execution_count": null,
   "id": "senior-singer",
   "metadata": {},
   "outputs": [],
   "source": [
    "library(assertthat)\n",
    "\n",
    "\n",
    "test_test1<-function(){\n",
    "    params= model_PotentialTranspiration(\n",
    "        tau = 0.9983,\n",
    "        evapoTranspiration = 830.958\n",
    "        )\n",
    "    potentialTranspiration_estimated = params$potentialTranspiration\n",
    "    potentialTranspiration_computed = 1.413\n",
    "    assert_that(all.equal(potentialTranspiration_estimated, potentialTranspiration_computed, scale=1, tol=0.3)==TRUE)\n",
    "}\n",
    "test_test1()"
   ]
  }
 ],
 "metadata": {
  "kernelspec": {
   "display_name": "R",
   "language": "R",
   "name": "ir"
  },
  "language_info": {
   "codemirror_mode": "r",
   "file_extension": ".r",
   "mimetype": "text/x-r-source",
   "name": "R",
   "pygments_lexer": "r",
   "version": "4.1.1"
  }
 },
 "nbformat": 4,
 "nbformat_minor": 5
}

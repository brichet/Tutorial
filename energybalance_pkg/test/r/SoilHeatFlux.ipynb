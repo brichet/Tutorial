{
 "cells": [
  {
   "cell_type": "markdown",
   "id": "specified-support",
   "metadata": {},
   "source": [
    "# Automatic generation of Notebook using PyCropML\n",
    "    This notebook implements a crop model."
   ]
  },
  {
   "cell_type": "markdown",
   "id": "auburn-voluntary",
   "metadata": {},
   "source": [
    "### Model SoilHeatFlux"
   ]
  },
  {
   "cell_type": "code",
   "execution_count": null,
   "id": "protected-pharmacy",
   "metadata": {},
   "outputs": [],
   "source": [
    "model_SoilHeatFlux <- function (netRadiationEquivalentEvaporation = 638.142,\n",
    "         tau = 0.9983,\n",
    "         soilEvaporation = 448.24){\n",
    "    #'- Name: SoilHeatFlux -Version: 1.0, -Time step: 1\n",
    "    #'- Description:\n",
    "    #'            * Title: SoilHeatFlux Model\n",
    "    #'            * Author: Pierre Martre\n",
    "    #'            * Reference: Modelling energy balance in the wheat crop model SiriusQuality2:\n",
    "    #'            Evapotranspiration and canopy and soil temperature calculations\n",
    "    #'            * Institution: INRA/LEPSE Montpellier\n",
    "    #'            * Abstract: The available energy in the soil \n",
    "    #'- inputs:\n",
    "    #'            * name: netRadiationEquivalentEvaporation\n",
    "    #'                          ** variablecategory : state\n",
    "    #'                          ** description : net Radiation Equivalent Evaporation\n",
    "    #'                          ** datatype : DOUBLE\n",
    "    #'                          ** default : 638.142\n",
    "    #'                          ** min : 0\n",
    "    #'                          ** max : 5000\n",
    "    #'                          ** unit : g m-2 d-1\n",
    "    #'                          ** uri : http://www1.clermont.inra.fr/siriusquality/?page_id=547\n",
    "    #'                          ** inputtype : variable\n",
    "    #'            * name: tau\n",
    "    #'                          ** description : plant cover factor\n",
    "    #'                          ** parametercategory : species\n",
    "    #'                          ** datatype : DOUBLE\n",
    "    #'                          ** default : 0.9983\n",
    "    #'                          ** min : 0\n",
    "    #'                          ** max : 100\n",
    "    #'                          ** unit : \n",
    "    #'                          ** uri : http://www1.clermont.inra.fr/siriusquality/?page_id=547\n",
    "    #'                          ** inputtype : parameter\n",
    "    #'            * name: soilEvaporation\n",
    "    #'                          ** description : soil Evaporation\n",
    "    #'                          ** variablecategory : state\n",
    "    #'                          ** datatype : DOUBLE\n",
    "    #'                          ** default : 448.240\n",
    "    #'                          ** min : 0\n",
    "    #'                          ** max : 10000\n",
    "    #'                          ** unit : g m-2 d-1\n",
    "    #'                          ** uri : http://www1.clermont.inra.fr/siriusquality/?page_id=547\n",
    "    #'                          ** inputtype : variable\n",
    "    #'- outputs:\n",
    "    #'            * name: soilHeatFlux\n",
    "    #'                          ** description : soil Heat Flux \n",
    "    #'                          ** variablecategory : rate\n",
    "    #'                          ** datatype : DOUBLE\n",
    "    #'                          ** min : 0\n",
    "    #'                          ** max : 10000\n",
    "    #'                          ** unit : g m-2 d-1\n",
    "    #'                          ** uri : http://www1.clermont.inra.fr/siriusquality/?page_id=547\n",
    "    soilHeatFlux <- tau * netRadiationEquivalentEvaporation - soilEvaporation\n",
    "    return (list('soilHeatFlux' = soilHeatFlux))\n",
    "}"
   ]
  },
  {
   "cell_type": "code",
   "execution_count": null,
   "id": "sophisticated-elizabeth",
   "metadata": {},
   "outputs": [],
   "source": [
    "library(assertthat)\n",
    "\n",
    "\n",
    "test_test1<-function(){\n",
    "    params= model_SoilHeatFlux(\n",
    "        tau = 0.9983,\n",
    "        netRadiationEquivalentEvaporation = 638.142,\n",
    "        soilEvaporation = 448.240\n",
    "        )\n",
    "    soilHeatFlux_estimated = params$soilHeatFlux\n",
    "    soilHeatFlux_computed = 188.817\n",
    "    assert_that(all.equal(soilHeatFlux_estimated, soilHeatFlux_computed, scale=1, tol=0.3)==TRUE)\n",
    "}\n",
    "test_test1()"
   ]
  }
 ],
 "metadata": {
  "kernelspec": {
   "display_name": "R",
   "language": "R",
   "name": "ir"
  },
  "language_info": {
   "codemirror_mode": "r",
   "file_extension": ".r",
   "mimetype": "text/x-r-source",
   "name": "R",
   "pygments_lexer": "r",
   "version": "4.1.1"
  }
 },
 "nbformat": 4,
 "nbformat_minor": 5
}

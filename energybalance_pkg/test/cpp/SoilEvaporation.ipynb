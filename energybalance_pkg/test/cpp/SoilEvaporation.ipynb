{
 "cells": [
  {
   "cell_type": "markdown",
   "id": "hired-robinson",
   "metadata": {},
   "source": [
    "# Automatic generation of Notebook using PyCropML\n",
    "    This notebook implements a crop model."
   ]
  },
  {
   "cell_type": "markdown",
   "id": "simple-destiny",
   "metadata": {},
   "source": [
    "### Model SoilEvaporation"
   ]
  },
  {
   "cell_type": "code",
   "execution_count": null,
   "id": "phantom-weapon",
   "metadata": {},
   "outputs": [],
   "source": [
    "#include \"energybalance/EnergyBalanceAuxiliary.cpp\"\n",
    "#include \"energybalance/EnergyBalanceRate.cpp\"\n",
    "#include \"energybalance/EnergyBalanceState.cpp\"\n",
    "#include \"energybalance/SoilEvaporation.cpp\"\n",
    "\n",
    "EnergybalanceState s;\n",
    "EnergybalanceState s1;\n",
    "EnergybalanceRate r;\n",
    "EnergybalanceAuxiliary a;\n",
    "Soilevaporation mod;\n"
   ]
  },
  {
   "cell_type": "code",
   "execution_count": null,
   "id": "numerous-canvas",
   "metadata": {},
   "outputs": [],
   "source": [
    "void test1()\n",
    "{\n",
    "    s.setdiffusionLimitedEvaporation(6605.505);\n",
    "    a.setenergyLimitedEvaporation(448.240);\n",
    "    mod.Calculate_Model(s,s1, r, a);\n",
    "    //soilEvaporation: 448.240;\n",
    "    printf(\"soilEvaporation estimated :\");\n",
    "    printf(\"%f\", a.getsoilEvaporation());\n",
    "}\n"
   ]
  },
  {
   "cell_type": "code",
   "execution_count": null,
   "id": "98a847fb-3f8e-4854-ba7c-fe4b0d706bed",
   "metadata": {},
   "outputs": [],
   "source": [
    "test1();"
   ]
  }
 ],
 "metadata": {
  "kernelspec": {
   "display_name": "C++17",
   "language": "C++17",
   "name": "xcpp17"
  },
  "language_info": {
   "codemirror_mode": "text/x-c++src",
   "file_extension": ".cpp",
   "mimetype": "text/x-c++src",
   "name": "c++",
   "version": "17"
  }
 },
 "nbformat": 4,
 "nbformat_minor": 5
}

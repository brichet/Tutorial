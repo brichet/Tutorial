{
 "cells": [
  {
   "cell_type": "markdown",
   "id": "according-shirt",
   "metadata": {},
   "source": [
    "# Automatic generation of Notebook using PyCropML\n",
    "    This notebook implements a crop model."
   ]
  },
  {
   "cell_type": "markdown",
   "id": "49ceff0d-4a5d-4bfa-8772-29d11533e282",
   "metadata": {},
   "source": [
    "### Model Penman"
   ]
  },
  {
   "cell_type": "code",
   "execution_count": null,
   "id": "similar-straight",
   "metadata": {},
   "outputs": [],
   "source": [
    "#include \"energybalance/EnergyBalanceAuxiliary.cpp\"\n",
    "#include \"energybalance/EnergyBalanceRate.cpp\"\n",
    "#include \"energybalance/EnergyBalanceState.cpp\"\n",
    "#include \"energybalance/Penman.cpp\"\n",
    "\n",
    "EnergybalanceState s;\n",
    "EnergybalanceState s1;\n",
    "EnergybalanceRate r;\n",
    "EnergybalanceAuxiliary a;\n",
    "Penman mod;\n"
   ]
  },
  {
   "cell_type": "code",
   "execution_count": null,
   "id": "executive-metabolism",
   "metadata": {},
   "outputs": [],
   "source": [
    "void test1()\n",
    "{\n",
    "    mod.setAlpha(1.5);\n",
    "    mod.setlambdaV(2.454);\n",
    "    r.setevapoTranspirationPriestlyTaylor(449.367);\n",
    "    a.sethslope(0.584);\n",
    "    a.setVPDair(2.19);\n",
    "    mod.setpsychrometricConstant(0.66);\n",
    "    mod.setrhoDensityAir(1.225);\n",
    "    mod.setspecificHeatCapacityAir(0.00101);\n",
    "    s.setconductance(598.685);\n",
    "    mod.Calculate_Model(s,s1, r, a);\n",
    "    //evapoTranspirationPenman: 830.958;\n",
    "    printf(\"evapoTranspirationPenman estimated :\");\n",
    "    printf(\"%f\", r.getevapoTranspirationPenman());\n",
    "}\n"
   ]
  },
  {
   "cell_type": "code",
   "execution_count": null,
   "id": "f105eb33-96fb-4630-9a52-03ba1209f94a",
   "metadata": {},
   "outputs": [],
   "source": [
    "test1();"
   ]
  }
 ],
 "metadata": {
  "kernelspec": {
   "display_name": "C++17",
   "language": "C++17",
   "name": "xcpp17"
  },
  "language_info": {
   "codemirror_mode": "text/x-c++src",
   "file_extension": ".cpp",
   "mimetype": "text/x-c++src",
   "name": "c++",
   "version": "17"
  }
 },
 "nbformat": 4,
 "nbformat_minor": 5
}

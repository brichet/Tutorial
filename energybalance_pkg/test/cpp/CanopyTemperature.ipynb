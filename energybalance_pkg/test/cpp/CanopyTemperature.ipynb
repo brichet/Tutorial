{
 "cells": [
  {
   "cell_type": "markdown",
   "id": "resident-little",
   "metadata": {
    "tags": []
   },
   "source": [
    "# Automatic generation of Notebook using PyCropML\n",
    "    This notebook implements a crop model."
   ]
  },
  {
   "cell_type": "markdown",
   "id": "3d2dfbf7-ec5f-4fb6-b8cc-a7e22b63a7f4",
   "metadata": {},
   "source": [
    "### Model CanopyTemperature"
   ]
  },
  {
   "cell_type": "code",
   "execution_count": null,
   "id": "4b30ef98-b58b-403e-bd44-9b3a77f37f7e",
   "metadata": {},
   "outputs": [],
   "source": [
    "#include \"energybalance/EnergyBalanceAuxiliary.cpp\"\n",
    "#include \"energybalance/EnergyBalanceRate.cpp\"\n",
    "#include \"energybalance/EnergyBalanceState.cpp\"\n",
    "#include \"energybalance/CanopyTemperature.cpp\"\n",
    "\n",
    "EnergybalanceState s;\n",
    "EnergybalanceState s1;\n",
    "EnergybalanceRate r;\n",
    "EnergybalanceAuxiliary a;\n",
    "Canopytemperature mod;"
   ]
  },
  {
   "cell_type": "code",
   "execution_count": null,
   "id": "30e0c97d-d8aa-4dde-930f-dab22357c900",
   "metadata": {},
   "outputs": [],
   "source": [
    "void test1()\n",
    "{\n",
    "    mod.setrhoDensityAir(1.225);\n",
    "    a.setminTair(0.7);\n",
    "    a.setmaxTair(7.2);\n",
    "    r.setcropHeatFlux(447.912);\n",
    "    s.setconductance(598.685);\n",
    "    mod.setlambdaV(2.454);\n",
    "    mod.setspecificHeatCapacityAir(0.00101);\n",
    "    mod.Calculate_Model(s,s1, r, a);\n",
    "    //minCanopyTemperature: 2.184;\n",
    "    printf(\"minCanopyTemperature estimated :\");\n",
    "    printf(\"%f\\n\", s.getminCanopyTemperature());\n",
    "    //maxCanopyTemperature: 8.684;\n",
    "    printf(\"maxCanopyTemperature estimated :\");\n",
    "    printf(\"%f\", s.getmaxCanopyTemperature());\n",
    "};"
   ]
  },
  {
   "cell_type": "code",
   "execution_count": null,
   "id": "annual-static",
   "metadata": {},
   "outputs": [],
   "source": [
    "test1();"
   ]
  }
 ],
 "metadata": {
  "kernelspec": {
   "display_name": "C++11",
   "language": "C++11",
   "name": "xcpp11"
  },
  "language_info": {
   "codemirror_mode": "text/x-c++src",
   "file_extension": ".cpp",
   "mimetype": "text/x-c++src",
   "name": "c++",
   "version": "11"
  }
 },
 "nbformat": 4,
 "nbformat_minor": 5
}

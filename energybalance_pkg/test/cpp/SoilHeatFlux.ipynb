{
 "cells": [
  {
   "cell_type": "markdown",
   "id": "humanitarian-romance",
   "metadata": {},
   "source": [
    "# Automatic generation of Notebook using PyCropML\n",
    "    This notebook implements a crop model."
   ]
  },
  {
   "cell_type": "markdown",
   "id": "preliminary-channel",
   "metadata": {},
   "source": [
    "### Model SoilHeatFlux"
   ]
  },
  {
   "cell_type": "code",
   "execution_count": null,
   "id": "functional-roberts",
   "metadata": {},
   "outputs": [],
   "source": [
    "#include \"energybalance/EnergyBalanceAuxiliary.cpp\"\n",
    "#include \"energybalance/EnergyBalanceRate.cpp\"\n",
    "#include \"energybalance/EnergyBalanceState.cpp\"\n",
    "#include \"energybalance/SoilHeatFlux.cpp\"\n",
    "\n",
    "EnergybalanceState s;\n",
    "EnergybalanceState s1;\n",
    "EnergybalanceRate r;\n",
    "EnergybalanceAuxiliary a;\n",
    "Soilheatflux mod;\n"
   ]
  },
  {
   "cell_type": "code",
   "execution_count": null,
   "id": "changed-spine",
   "metadata": {},
   "outputs": [],
   "source": [
    "void test1()\n",
    "{\n",
    "    mod.settau(0.9983);\n",
    "    a.setnetRadiationEquivalentEvaporation(638.142);\n",
    "    a.setsoilEvaporation(448.240);\n",
    "    mod.Calculate_Model(s,s1, r, a);\n",
    "    //soilHeatFlux: 188.817;\n",
    "    printf(\"soilHeatFlux estimated :\");\n",
    "    printf(\"%f\", r.getsoilHeatFlux());\n",
    "}\n"
   ]
  },
  {
   "cell_type": "code",
   "execution_count": null,
   "id": "3ed9880e-545f-4279-bc37-c79f52ebea47",
   "metadata": {},
   "outputs": [],
   "source": [
    "test1();"
   ]
  }
 ],
 "metadata": {
  "kernelspec": {
   "display_name": "C++17",
   "language": "C++17",
   "name": "xcpp17"
  },
  "language_info": {
   "codemirror_mode": "text/x-c++src",
   "file_extension": ".cpp",
   "mimetype": "text/x-c++src",
   "name": "c++",
   "version": "17"
  }
 },
 "nbformat": 4,
 "nbformat_minor": 5
}

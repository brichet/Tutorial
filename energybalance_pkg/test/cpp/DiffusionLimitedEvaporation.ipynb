{
 "cells": [
  {
   "cell_type": "markdown",
   "id": "pretty-glory",
   "metadata": {
    "tags": []
   },
   "source": [
    "# Automatic generation of Notebook using PyCropML\n",
    "    This notebook implements a crop model."
   ]
  },
  {
   "cell_type": "markdown",
   "id": "d7c341d0-ed0d-4506-a64d-0630685d51fa",
   "metadata": {},
   "source": [
    "### Model DiffusionLimitedEvaporation"
   ]
  },
  {
   "cell_type": "code",
   "execution_count": null,
   "id": "transparent-guide",
   "metadata": {},
   "outputs": [],
   "source": [
    "#include \"energybalance/EnergyBalanceAuxiliary.cpp\"\n",
    "#include \"energybalance/EnergyBalanceRate.cpp\"\n",
    "#include \"energybalance/EnergyBalanceState.cpp\"\n",
    "#include \"energybalance/DiffusionLimitedEvaporation.cpp\"\n",
    "\n",
    "EnergybalanceState s;\n",
    "EnergybalanceState s1;\n",
    "EnergybalanceRate r;\n",
    "EnergybalanceAuxiliary a;\n",
    "Diffusionlimitedevaporation mod;\n"
   ]
  },
  {
   "cell_type": "code",
   "execution_count": null,
   "id": "toxic-scotland",
   "metadata": {},
   "outputs": [],
   "source": [
    "void test1()\n",
    "{\n",
    "    mod.setsoilDiffusionConstant(4.2);\n",
    "    a.setdeficitOnTopLayers(5341);\n",
    "    mod.Calculate_Model(s,s1, r, a);\n",
    "    //diffusionLimitedEvaporation: 6605.505;\n",
    "    printf(\"diffusionLimitedEvaporation estimated :\");\n",
    "    printf(\"%f\", s.getdiffusionLimitedEvaporation());\n",
    "}\n"
   ]
  },
  {
   "cell_type": "code",
   "execution_count": null,
   "id": "4ce22885-9e04-463a-8be2-09a859a1f438",
   "metadata": {},
   "outputs": [],
   "source": [
    "test1();"
   ]
  }
 ],
 "metadata": {
  "kernelspec": {
   "display_name": "C++17",
   "language": "C++17",
   "name": "xcpp17"
  },
  "language_info": {
   "codemirror_mode": "text/x-c++src",
   "file_extension": ".cpp",
   "mimetype": "text/x-c++src",
   "name": "c++",
   "version": "17"
  }
 },
 "nbformat": 4,
 "nbformat_minor": 5
}

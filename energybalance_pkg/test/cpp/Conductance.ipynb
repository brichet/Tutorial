{
 "cells": [
  {
   "cell_type": "markdown",
   "id": "single-richards",
   "metadata": {},
   "source": [
    "# Automatic generation of Notebook using PyCropML\n",
    "    This notebook implements a crop model."
   ]
  },
  {
   "cell_type": "markdown",
   "id": "90c5e622-d020-4680-b855-e545dbb6d7f3",
   "metadata": {},
   "source": [
    "### Model Conductance"
   ]
  },
  {
   "cell_type": "code",
   "execution_count": null,
   "id": "alert-candle",
   "metadata": {},
   "outputs": [],
   "source": [
    "#include \"energybalance/EnergyBalanceAuxiliary.cpp\"\n",
    "#include \"energybalance/EnergyBalanceRate.cpp\"\n",
    "#include \"energybalance/EnergyBalanceState.cpp\"\n",
    "#include \"energybalance/Conductance.cpp\"\n",
    "\n",
    "EnergybalanceState s;\n",
    "EnergybalanceState s1;\n",
    "EnergybalanceRate r;\n",
    "EnergybalanceAuxiliary a;\n",
    "Conductance mod;\n"
   ]
  },
  {
   "cell_type": "code",
   "execution_count": null,
   "id": "incident-clothing",
   "metadata": {},
   "outputs": [],
   "source": [
    "void test1()\n",
    "{\n",
    "    mod.setd(0.67);\n",
    "    mod.setzh(0.013);\n",
    "    mod.setzm(0.13);\n",
    "    a.setwind(124000);\n",
    "    a.setplantHeight(0);\n",
    "    mod.setvonKarman(0.42);\n",
    "    mod.setheightWeatherMeasurements(2);\n",
    "    mod.Calculate_Model(s,s1, r, a);\n",
    "    //conductance: 598.685;\n",
    "    printf(\"conductance estimated :\");\n",
    "    printf(\"%f\", s.getconductance());\n",
    "}\n"
   ]
  },
  {
   "cell_type": "code",
   "execution_count": null,
   "id": "5da95dfc-f0ad-4271-b667-54eecbc0905c",
   "metadata": {},
   "outputs": [],
   "source": [
    "test1();"
   ]
  }
 ],
 "metadata": {
  "kernelspec": {
   "display_name": "C++17",
   "language": "C++17",
   "name": "xcpp17"
  },
  "language_info": {
   "codemirror_mode": "text/x-c++src",
   "file_extension": ".cpp",
   "mimetype": "text/x-c++src",
   "name": "c++",
   "version": "17"
  }
 },
 "nbformat": 4,
 "nbformat_minor": 5
}

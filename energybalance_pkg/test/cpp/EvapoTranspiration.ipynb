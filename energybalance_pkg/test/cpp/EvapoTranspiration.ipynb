{
 "cells": [
  {
   "cell_type": "markdown",
   "id": "stuck-kinase",
   "metadata": {},
   "source": [
    "# Automatic generation of Notebook using PyCropML\n",
    "    This notebook implements a crop model."
   ]
  },
  {
   "cell_type": "markdown",
   "id": "5aa388ff-e1a0-4672-ae18-aebd72bcb4c5",
   "metadata": {},
   "source": [
    "### Model Evapotranspiration"
   ]
  },
  {
   "cell_type": "code",
   "execution_count": null,
   "id": "metropolitan-atlanta",
   "metadata": {},
   "outputs": [],
   "source": [
    "#include \"energybalance/EnergyBalanceAuxiliary.cpp\"\n",
    "#include \"energybalance/EnergyBalanceRate.cpp\"\n",
    "#include \"energybalance/EnergyBalanceState.cpp\"\n",
    "#include \"energybalance/Evapotranspiration.cpp\"\n",
    "\n",
    "EnergybalanceState s;\n",
    "EnergybalanceState s1;\n",
    "EnergybalanceRate r;\n",
    "EnergybalanceAuxiliary a;\n",
    "Evapotranspiration mod;\n"
   ]
  },
  {
   "cell_type": "code",
   "execution_count": null,
   "id": "numerical-upper",
   "metadata": {},
   "outputs": [],
   "source": [
    "void test1()\n",
    "{\n",
    "    mod.setisWindVpDefined(1);\n",
    "    r.setevapoTranspirationPriestlyTaylor(449.367);\n",
    "    r.setevapoTranspirationPenman(830.957);\n",
    "    mod.Calculate_Model(s,s1, r, a);\n",
    "    //evapoTranspiration: 830.957;\n",
    "    printf(\"evapoTranspiration estimated :\");\n",
    "    printf(\"%f\", r.getevapoTranspiration());\n",
    "}\n"
   ]
  },
  {
   "cell_type": "code",
   "execution_count": null,
   "id": "41ddec2e-b130-450d-b503-628188d319ab",
   "metadata": {},
   "outputs": [],
   "source": [
    "test1()"
   ]
  }
 ],
 "metadata": {
  "kernelspec": {
   "display_name": "C++17",
   "language": "C++17",
   "name": "xcpp17"
  },
  "language_info": {
   "codemirror_mode": "text/x-c++src",
   "file_extension": ".cpp",
   "mimetype": "text/x-c++src",
   "name": "c++",
   "version": "17"
  }
 },
 "nbformat": 4,
 "nbformat_minor": 5
}

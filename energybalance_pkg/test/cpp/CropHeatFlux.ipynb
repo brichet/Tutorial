{
 "cells": [
  {
   "cell_type": "markdown",
   "id": "biblical-exhaust",
   "metadata": {},
   "source": [
    "# Automatic generation of Notebook using PyCropML\n",
    "    This notebook implements a crop model."
   ]
  },
  {
   "cell_type": "markdown",
   "id": "9a59e9e8-79ee-4ebc-90af-54a8844c0894",
   "metadata": {},
   "source": [
    "### Model CropHeatFlux"
   ]
  },
  {
   "cell_type": "code",
   "execution_count": null,
   "id": "distinct-broad",
   "metadata": {},
   "outputs": [],
   "source": [
    "#include \"energybalance/EnergyBalanceAuxiliary.cpp\"\n",
    "#include \"energybalance/EnergyBalanceRate.cpp\"\n",
    "#include \"energybalance/EnergyBalanceState.cpp\"\n",
    "#include \"energybalance/CropHeatFlux.cpp\"\n",
    "\n",
    "EnergybalanceState s;\n",
    "EnergybalanceState s1;\n",
    "EnergybalanceRate r;\n",
    "EnergybalanceAuxiliary a;\n",
    "Cropheatflux mod;"
   ]
  },
  {
   "cell_type": "code",
   "execution_count": null,
   "id": "potential-namibia",
   "metadata": {},
   "outputs": [],
   "source": [
    "void test1()\n",
    "{\n",
    "    a.setnetRadiationEquivalentEvaporation(638.142);\n",
    "    r.setsoilHeatFlux(188.817);\n",
    "    r.setpotentialTranspiration(1.413);\n",
    "    mod.Calculate_Model(s,s1, r, a);\n",
    "    //cropHeatFlux:  447.912;\n",
    "    printf(\"cropHeatFlux estimated :\");\n",
    "    printf(\"%f\", r.getcropHeatFlux());\n",
    "}\n",
    "// }\n",
    "// Test t = new Test();\n",
    "// t.test1();\n"
   ]
  },
  {
   "cell_type": "code",
   "execution_count": null,
   "id": "1298ef2f-128e-4e3f-9a72-61ca340d7a8e",
   "metadata": {},
   "outputs": [],
   "source": [
    "test1();"
   ]
  }
 ],
 "metadata": {
  "kernelspec": {
   "display_name": "C++17",
   "language": "C++17",
   "name": "xcpp17"
  },
  "language_info": {
   "codemirror_mode": "text/x-c++src",
   "file_extension": ".cpp",
   "mimetype": "text/x-c++src",
   "name": "c++",
   "version": "17"
  }
 },
 "nbformat": 4,
 "nbformat_minor": 5
}

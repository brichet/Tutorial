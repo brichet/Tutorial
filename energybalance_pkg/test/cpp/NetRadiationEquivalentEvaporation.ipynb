{
 "cells": [
  {
   "cell_type": "markdown",
   "id": "qualified-registrar",
   "metadata": {},
   "source": [
    "# Automatic generation of Notebook using PyCropML\n",
    "    This notebook implements a crop model."
   ]
  },
  {
   "cell_type": "markdown",
   "id": "f2bf438b-9216-4bfd-98e6-c46f33432795",
   "metadata": {},
   "source": [
    "### Model NetRadiationEquivalentEvaporation"
   ]
  },
  {
   "cell_type": "code",
   "execution_count": null,
   "id": "suitable-sweet",
   "metadata": {},
   "outputs": [],
   "source": [
    "#include \"energybalance/EnergyBalanceAuxiliary.cpp\"\n",
    "#include \"energybalance/EnergyBalanceRate.cpp\"\n",
    "#include \"energybalance/EnergyBalanceState.cpp\"\n",
    "#include \"energybalance/NetRadiationEquivalentEvaporation.cpp\"\n",
    "\n",
    "EnergybalanceState s;\n",
    "EnergybalanceState s1;\n",
    "EnergybalanceRate r;\n",
    "EnergybalanceAuxiliary a;\n",
    "Netradiationequivalentevaporation mod;\n"
   ]
  },
  {
   "cell_type": "code",
   "execution_count": null,
   "id": "spoken-soccer",
   "metadata": {},
   "outputs": [],
   "source": [
    "void test1()\n",
    "{\n",
    "    a.setnetRadiation(1.566);\n",
    "    mod.setlambdaV(2.454);\n",
    "    mod.Calculate_Model(s,s1, r, a);\n",
    "    //netRadiationEquivalentEvaporation: 638.142;\n",
    "    printf(\"netRadiationEquivalentEvaporation estimated :\");\n",
    "    printf(\"%f\", a.getnetRadiationEquivalentEvaporation());\n",
    "}\n",
    "\n"
   ]
  },
  {
   "cell_type": "code",
   "execution_count": null,
   "id": "67bcd312-3f2e-4787-9e83-12ad36cc0b02",
   "metadata": {},
   "outputs": [],
   "source": [
    "test1();"
   ]
  }
 ],
 "metadata": {
  "kernelspec": {
   "display_name": "C++17",
   "language": "C++17",
   "name": "xcpp17"
  },
  "language_info": {
   "codemirror_mode": "text/x-c++src",
   "file_extension": ".cpp",
   "mimetype": "text/x-c++src",
   "name": "c++",
   "version": "17"
  }
 },
 "nbformat": 4,
 "nbformat_minor": 5
}

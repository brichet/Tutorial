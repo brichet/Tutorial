{
 "cells": [
  {
   "cell_type": "markdown",
   "id": "international-active",
   "metadata": {},
   "source": [
    "# Automatic generation of Notebook using PyCropML\n",
    "    This notebook implements a crop model."
   ]
  },
  {
   "cell_type": "markdown",
   "id": "2a6a59b2-16d8-4243-9664-bc5ce28df002",
   "metadata": {},
   "source": [
    "### Model PotentialTranspiration"
   ]
  },
  {
   "cell_type": "code",
   "execution_count": null,
   "id": "matched-efficiency",
   "metadata": {},
   "outputs": [],
   "source": [
    "#include \"energybalance/EnergyBalanceAuxiliary.cpp\"\n",
    "#include \"energybalance/EnergyBalanceRate.cpp\"\n",
    "#include \"energybalance/EnergyBalanceState.cpp\"\n",
    "#include \"energybalance/PotentialTranspiration.cpp\"\n",
    "\n",
    "EnergybalanceState s;\n",
    "EnergybalanceState s1;\n",
    "EnergybalanceRate r;\n",
    "EnergybalanceAuxiliary a;\n",
    "Potentialtranspiration mod;\n"
   ]
  },
  {
   "cell_type": "code",
   "execution_count": null,
   "id": "recreational-fever",
   "metadata": {},
   "outputs": [],
   "source": [
    "void test1()\n",
    "{\n",
    "    mod.settau(0.9983);\n",
    "    r.setevapoTranspiration(830.958);\n",
    "    mod.Calculate_Model(s,s1, r, a);\n",
    "    //potentialTranspiration: 1.413;\n",
    "    printf(\"potentialTranspiration estimated :\");\n",
    "    printf(\"%f\", r.getpotentialTranspiration());\n",
    "}\n"
   ]
  },
  {
   "cell_type": "code",
   "execution_count": null,
   "id": "8f5e669f-909d-41e6-9fbe-3be5be7f9229",
   "metadata": {},
   "outputs": [],
   "source": [
    "test1();"
   ]
  }
 ],
 "metadata": {
  "kernelspec": {
   "display_name": "C++17",
   "language": "C++17",
   "name": "xcpp17"
  },
  "language_info": {
   "codemirror_mode": "text/x-c++src",
   "file_extension": ".cpp",
   "mimetype": "text/x-c++src",
   "name": "c++",
   "version": "17"
  }
 },
 "nbformat": 4,
 "nbformat_minor": 5
}

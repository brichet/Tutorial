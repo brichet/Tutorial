{
 "cells": [
  {
   "cell_type": "markdown",
   "id": "geographic-royalty",
   "metadata": {},
   "source": [
    "# Automatic generation of Notebook using PyCropML\n",
    "    This notebook implements a crop model."
   ]
  },
  {
   "cell_type": "markdown",
   "id": "59785d2f-6e25-4af9-bcc1-c4c45a5793b2",
   "metadata": {},
   "source": [
    "### Model PriestlyTaylor"
   ]
  },
  {
   "cell_type": "code",
   "execution_count": null,
   "id": "limiting-divide",
   "metadata": {},
   "outputs": [],
   "source": [
    "#include \"energybalance/EnergyBalanceAuxiliary.cpp\"\n",
    "#include \"energybalance/EnergyBalanceRate.cpp\"\n",
    "#include \"energybalance/EnergyBalanceState.cpp\"\n",
    "#include \"energybalance/PriestlyTaylor.cpp\"\n",
    "\n",
    "EnergybalanceState s;\n",
    "EnergybalanceState s1;\n",
    "EnergybalanceRate r;\n",
    "EnergybalanceAuxiliary a;\n",
    "Priestlytaylor mod;\n"
   ]
  },
  {
   "cell_type": "code",
   "execution_count": null,
   "id": "killing-queue",
   "metadata": {},
   "outputs": [],
   "source": [
    "void test1()\n",
    "{\n",
    "    mod.setAlpha(1.5);\n",
    "    a.setnetRadiationEquivalentEvaporation(638.142);\n",
    "    a.sethslope(0.584);\n",
    "    mod.setpsychrometricConstant(0.66);\n",
    "    mod.Calculate_Model(s,s1, r, a);\n",
    "    //evapoTranspirationPriestlyTaylor: 449.367;\n",
    "    printf(\"evapoTranspirationPriestlyTaylor estimated :\");\n",
    "    printf(\"%f\", r.getevapoTranspirationPriestlyTaylor());\n",
    "}\n"
   ]
  },
  {
   "cell_type": "code",
   "execution_count": null,
   "id": "d7a108f4-6ff3-4c4b-b758-c8450e5bc33d",
   "metadata": {},
   "outputs": [],
   "source": [
    "test1();"
   ]
  }
 ],
 "metadata": {
  "kernelspec": {
   "display_name": "C++17",
   "language": "C++17",
   "name": "xcpp17"
  },
  "language_info": {
   "codemirror_mode": "text/x-c++src",
   "file_extension": ".cpp",
   "mimetype": "text/x-c++src",
   "name": "c++",
   "version": "17"
  }
 },
 "nbformat": 4,
 "nbformat_minor": 5
}

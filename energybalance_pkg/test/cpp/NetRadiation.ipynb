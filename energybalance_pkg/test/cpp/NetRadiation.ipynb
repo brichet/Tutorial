{
 "cells": [
  {
   "cell_type": "markdown",
   "id": "insured-savage",
   "metadata": {},
   "source": [
    "# Automatic generation of Notebook using PyCropML\n",
    "    This notebook implements a crop model."
   ]
  },
  {
   "cell_type": "markdown",
   "id": "a115ec4f-a270-4571-876f-61d61079c7b9",
   "metadata": {},
   "source": [
    "### Model NetRadiation"
   ]
  },
  {
   "cell_type": "code",
   "execution_count": null,
   "id": "optical-tender",
   "metadata": {},
   "outputs": [],
   "source": [
    "#include \"energybalance/EnergyBalanceAuxiliary.cpp\"\n",
    "#include \"energybalance/EnergyBalanceRate.cpp\"\n",
    "#include \"energybalance/EnergyBalanceState.cpp\"\n",
    "#include \"energybalance/NetRadiation.cpp\"\n",
    "\n",
    "EnergybalanceState s;\n",
    "EnergybalanceState s1;\n",
    "EnergybalanceRate r;\n",
    "EnergybalanceAuxiliary a;\n",
    "Netradiation mod;\n"
   ]
  },
  {
   "cell_type": "code",
   "execution_count": null,
   "id": "resident-democracy",
   "metadata": {},
   "outputs": [],
   "source": [
    "void test1()\n",
    "{\n",
    "    mod.setelevation(0);\n",
    "    a.setsolarRadiation(3);\n",
    "    a.setvaporPressure(6.1);\n",
    "    a.setminTair(0.7);\n",
    "    a.setmaxTair(7.2);\n",
    "    mod.setalbedoCoefficient(0.23);\n",
    "    mod.setstefanBoltzman(4.903E-09);\n",
    "    a.setextraSolarRadiation(11.7);\n",
    "    mod.Calculate_Model(s,s1, r, a);\n",
    "    //netRadiation: 1.566;\n",
    "    printf(\"netRadiation estimated :\");\n",
    "    printf(\"%f\\n\", a.getnetRadiation());\n",
    "    //netOutGoingLongWaveRadiation: 0.744;\n",
    "    printf(\"netOutGoingLongWaveRadiation estimated :\");\n",
    "    printf(\"%f\", a.getnetOutGoingLongWaveRadiation());\n",
    "}\n"
   ]
  },
  {
   "cell_type": "code",
   "execution_count": null,
   "id": "634ee77d-3103-4997-934c-12c8799bd837",
   "metadata": {},
   "outputs": [],
   "source": [
    "test1();"
   ]
  }
 ],
 "metadata": {
  "kernelspec": {
   "display_name": "C++17",
   "language": "C++17",
   "name": "xcpp17"
  },
  "language_info": {
   "codemirror_mode": "text/x-c++src",
   "file_extension": ".cpp",
   "mimetype": "text/x-c++src",
   "name": "c++",
   "version": "17"
  }
 },
 "nbformat": 4,
 "nbformat_minor": 5
}

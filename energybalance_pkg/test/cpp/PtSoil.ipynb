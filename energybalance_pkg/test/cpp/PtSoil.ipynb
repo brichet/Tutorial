{
 "cells": [
  {
   "cell_type": "markdown",
   "id": "collected-houston",
   "metadata": {},
   "source": [
    "# Automatic generation of Notebook using PyCropML\n",
    "    This notebook implements a crop model."
   ]
  },
  {
   "cell_type": "markdown",
   "id": "billion-auckland",
   "metadata": {},
   "source": [
    "### Model PtSoil"
   ]
  },
  {
   "cell_type": "code",
   "execution_count": null,
   "id": "democratic-polymer",
   "metadata": {},
   "outputs": [],
   "source": [
    "#include \"energybalance/EnergyBalanceAuxiliary.cpp\"\n",
    "#include \"energybalance/EnergyBalanceRate.cpp\"\n",
    "#include \"energybalance/EnergyBalanceState.cpp\"\n",
    "#include \"energybalance/PtSoil.cpp\"\n",
    "\n",
    "EnergybalanceState s;\n",
    "EnergybalanceState s1;\n",
    "EnergybalanceRate r;\n",
    "EnergybalanceAuxiliary a;\n",
    "Ptsoil mod;\n"
   ]
  },
  {
   "cell_type": "code",
   "execution_count": null,
   "id": "mediterranean-terminology",
   "metadata": {},
   "outputs": [],
   "source": [
    "void test1()\n",
    "{\n",
    "    mod.settau(0.9983);\n",
    "    r.setevapoTranspirationPriestlyTaylor(449.367);\n",
    "    mod.setAlpha(1.5);\n",
    "    mod.settauAlpha(0.3);\n",
    "    mod.Calculate_Model(s,s1, r, a);\n",
    "    //energyLimitedEvaporation: 448.240;\n",
    "    printf(\"energyLimitedEvaporation estimated :\");\n",
    "    printf(\"%f\", a.getenergyLimitedEvaporation());\n",
    "}\n"
   ]
  },
  {
   "cell_type": "code",
   "execution_count": null,
   "id": "6b9a9c3e-464a-46cc-8997-52ac270a0eec",
   "metadata": {},
   "outputs": [],
   "source": [
    "test1();"
   ]
  }
 ],
 "metadata": {
  "kernelspec": {
   "display_name": "C++17",
   "language": "C++17",
   "name": "xcpp17"
  },
  "language_info": {
   "codemirror_mode": "text/x-c++src",
   "file_extension": ".cpp",
   "mimetype": "text/x-c++src",
   "name": "c++",
   "version": "17"
  }
 },
 "nbformat": 4,
 "nbformat_minor": 5
}
